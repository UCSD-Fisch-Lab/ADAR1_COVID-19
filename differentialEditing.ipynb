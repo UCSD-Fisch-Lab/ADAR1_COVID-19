{
 "cells": [
  {
   "cell_type": "markdown",
   "id": "2b20e472-4c84-46cd-bead-751f75d6b87b",
   "metadata": {},
   "source": [
    "# Load in Metadata and Edits"
   ]
  },
  {
   "cell_type": "code",
   "execution_count": null,
   "id": "2e2a3513-3ec4-4c12-a684-61e4b3ccb046",
   "metadata": {},
   "outputs": [],
   "source": [
    "library(\"plyr\")\n",
    "source(\"scripts/REDIT_LLR.R\")"
   ]
  },
  {
   "cell_type": "code",
   "execution_count": null,
   "id": "99649f4e-e8df-463a-84b3-11fb64d5b338",
   "metadata": {},
   "outputs": [],
   "source": [
    "setwd(\"/oasis/tscc/scratch/m7huang/COVID_editing/\")"
   ]
  },
  {
   "cell_type": "code",
   "execution_count": null,
   "id": "efa6d873-7bcb-4c2e-ad70-258559cf9476",
   "metadata": {},
   "outputs": [],
   "source": [
    "# Remove conflicting samples\n",
    "ignore_samples <- c(\"COVSUBJ_0137_1_N_HA\", \"COVSUBJ_0146_1_N_HA\", \"COVSUBJ_0376_1_N_HA\",\n",
    "                    \"COVSUBJ_0461_1_N_HA\", \"COVSUBJ_0558_1_N_HA\", \"COVSUBJ_0619_1_N_HA\")\n",
    "\n",
    "metadata <- read.table(\"rdata/Updated_Cornell_Metadata_08072020_KF_20210908.txt\",\n",
    "                       sep=\"\\t\", stringsAsFactors=FALSE, header = TRUE)\n",
    "metadata$Tumor_Sample_Barcode <- metadata$SampleID\n",
    "metadata <- subset(metadata, !(SampleID %in% ignore_samples))\n",
    "table(metadata$Type)"
   ]
  },
  {
   "cell_type": "code",
   "execution_count": null,
   "id": "7cd83662-0290-4822-b734-cc2b08989974",
   "metadata": {},
   "outputs": [],
   "source": [
    "# Read in all RNA edits and combine\n",
    "edits <- do.call(rbind, lapply(list.files(\".\"), fread, stringsAsFactors=FALSE))\n",
    "edits$VarID <- paste0(edits$Chromosome, \":\", edits$Start_Position)\n",
    "edits$Tumor_Sample_Barcode <- gsub(\"_filtered.human\", \"\", edits$Tumor_Sample_Barcode)\n",
    "write.table(edits, file=\"rnaedits/merged_rnaedits_raw.tsv\", sep=\"\\t\", quote=FALSE, row.names=FALSE)\n",
    "sitesCount <- arrange(data.frame(table(edits$VarID)), -Freq)\n",
    "\n",
    "# keep edits present in at least 20 - 5% samples\n",
    "edits_keep <- subset(sitesCount, Freq >= 35)$Var1\n",
    "edits_filt <- subset(edits, VarID %in% edits_keep)\n",
    "\n",
    "edits_filt_metadata <- merge(edits_filt, metadata, by=\"Tumor_Sample_Barcode\")\n",
    "write.table(edits_filt, file=\"rnaedits/merged_rnaedits_filtered.tsv\", sep=\"\\t\", quote=FALSE, row.names=FALSE)\n",
    "save(edits_filt, file=\"rdata/merged_rnaedits_filtered_5percent.RData\")"
   ]
  },
  {
   "cell_type": "markdown",
   "id": "96b2ca5e-036a-4f13-b09a-3ef03b323658",
   "metadata": {},
   "source": [
    "# Expand Edits to Run REDIT_LLR"
   ]
  },
  {
   "cell_type": "code",
   "execution_count": null,
   "id": "f612ed72-1aab-48a8-8647-9036b3b2cf9c",
   "metadata": {},
   "outputs": [],
   "source": [
    "expandSite <- function(site, samples, maf, metadata){\n",
    "  site_maf <- cbind(Tumor_Sample_Barcode=samples, site)\n",
    "  site_maf <- merge(site_maf, maf[,c(\"Tumor_Sample_Barcode\", \"Chromosome\", \"Start_Position\", \"End_Position\", \"t_alt_count\", \"t_ref_count\")],\n",
    "                    by=names(site_maf), all.x=TRUE)\n",
    "  site_maf$t_alt_count[is.na(site_maf$t_alt_count)] <- 0\n",
    "  mean_ref_count <- round(mean(site_maf$t_ref_count, na.rm=TRUE), 0)\n",
    "  site_maf$t_ref_count[is.na(site_maf$t_ref_count)] <- mean_ref_count\n",
    "  site_maf <- merge(site_maf, metadata, by=\"Tumor_Sample_Barcode\")\n",
    "  unique(site_maf)\n",
    "}\n",
    "\n",
    "expandMaf <- function(maf, metadata){\n",
    "    samples <- unique(maf$Tumor_Sample_Barcode)\n",
    "    sites <- unique(maf[,c(\"Chromosome\", \"Start_Position\", \"End_Position\")])\n",
    "    subset_maf <- maf[, c(\"Tumor_Sample_Barcode\", \"Chromosome\", \"Start_Position\", \"End_Position\", \"t_alt_count\", \"t_ref_count\")]\n",
    "    expanded_maf <- do.call(rbind, lapply(1:nrow(sites), function(i) expandSite(sites[i,], samples, subset_maf, metadata)))\n",
    "}"
   ]
  },
  {
   "cell_type": "code",
   "execution_count": null,
   "id": "719fb7b7-1ab2-4db0-bed8-f1472cfcd5e3",
   "metadata": {},
   "outputs": [],
   "source": [
    "# Create Expanded Edits\n",
    "expanded_edits <- expandMaf(edits_filt, metadata)\n",
    "expanded_edits$VarID <- paste0(expanded_edits$Chromosome, \":\", expanded_edits$Start_Position)\n",
    "expanded_edits\n",
    "save(expanded_edits, file=\"rdata/expanded_edits.RData\")\n",
    "\n",
    "expanded_edits$VarID <- paste0(expanded_edits$Chromosome, \":\", expanded_edits$Start_Position)"
   ]
  },
  {
   "cell_type": "markdown",
   "id": "3ffbc170-2311-4cde-9beb-c1ea8be50e4c",
   "metadata": {},
   "source": [
    "# Determine Fraction of Samples Edited"
   ]
  },
  {
   "cell_type": "code",
   "execution_count": null,
   "id": "d36c8a41-62b5-42f1-adc6-b45d92bd1eb8",
   "metadata": {},
   "outputs": [],
   "source": [
    "doRedits <- function(maf, site, column){\n",
    "  maf_site <- subset(maf, VarID == site)\n",
    "  the_data <- rbind(maf_site$t_alt_count, maf_site$t_ref_count)\n",
    "  the_groups <- as.character(maf_site[[column]])\n",
    "  REDIT_LLR(data=the_data, groups=the_groups)\n",
    "}\n",
    "\n",
    "pAdjDiffEdits <- function(diffEditPValues, sites_by_gene, edit_sites){\n",
    "  p_vals <- lapply(diffEditPValues, `[[`, \"p.value\")\n",
    "  names(p_vals) <- edit_sites\n",
    "  p_adj <- p.adjust(p_vals)\n",
    "  p_sig <- p_adj[p_adj < 0.05]\n",
    "  p_sig_df <- data.frame(VarID=names(p_sig), p.adj=p_sig)\n",
    "  p_sig_df <- join(p_sig_df, sites_by_gene)\n",
    "  p_sig_df <- unique(p_sig_df)\n",
    "  #write.table(p_sig_df, file=sprintf(\"%s_sig_diffedit.tsv\", comparison), sep=\"\\t\", row.names=FALSE, quote=FALSE)\n",
    "  p_sig_df\n",
    "}\n",
    "\n",
    "fractionOfSamplesEdited <- function(p_adj_results, maf, metadata, column, condition1, condition2){\n",
    "    # Identify unique mafs (only sig p-value)\n",
    "    sig_edit_sites <- unique(maf$VarID)\n",
    "    sig_edit_sites_x <- lapply(sig_edit_sites, function(i) subset(maf, VarID == i))\n",
    "\n",
    "    # Calculate fraction of samples edited at each site\n",
    "    yes_infection <- lapply(sig_edit_sites_x, function(i) nrow(i[i[[column]] == condition1,])/nrow(metadata[metadata[[column]] == condition1,]))\n",
    "    no_infection <- lapply(sig_edit_sites_x, function(i) nrow(i[i[[column]] == condition2, ])/nrow(metadata[metadata[[column]] == condition2, ]))\n",
    "                     \n",
    "    # Format into dataframe, combine with p-values\n",
    "    res_df <- data.frame(unlist(sig_edit_sites), unlist(yes_infection), unlist(no_infection))\n",
    "    colnames(res_df) <- c(\"VarID\", condition1, condition2)\n",
    "    res_df <- merge(res_df, p_adj_results, by = \"VarID\")\n",
    "}"
   ]
  },
  {
   "cell_type": "code",
   "execution_count": null,
   "id": "d4657117-21ed-4d63-8ef3-aad1a9548161",
   "metadata": {},
   "outputs": [],
   "source": [
    "# For: COVID-19 Vs. OVI\n",
    "covid_ovi_samples <- subset(metadata, Type != \"None\")$Tumor_Sample_Barcode\n",
    "\n",
    "# For: COVID-19 High Vs. Low\n",
    "high_low_samples <- subset(metadata, Type %in% c(\"High\", \"Low\"))$Tumor_Sample_Barcode\n",
    "\n",
    "# For: COVID-19 Vs. None\n",
    "not_ovi_samples <- subset(metadata, Type != \"OtherViralInfection\")$Tumor_Sample_Barcode\n",
    "\n",
    "# For: OVI Vs. None\n",
    "not_covid_samples <- subset(metadata, Type %in% c(\"OtherViralInfection\", \"None\"))$Tumor_Sample_Barcode"
   ]
  },
  {
   "cell_type": "code",
   "execution_count": null,
   "id": "0028dbf9-a2e7-4cbe-9d40-ac22bff2b1e4",
   "metadata": {},
   "outputs": [],
   "source": [
    "metadata_covid_ovi <- subset(metadata, Tumor_Sample_Barcode %in% covid_ovi_samples)\n",
    "metadata_covid_ovi$COVIDOrOVI <- ifelse(metadata_covid_ovi$Type == \"OtherViralInfection\", yes=\"OtherViralInfection\", no=\"COVID\")\n",
    "\n",
    "metadata_high_low <- subset(metadata, Tumor_Sample_Barcode %in% high_low_samples)\n",
    "metadata_high_low$HighOrLow <- ifelse(metadata_high_low$Type == \"High\", yes=\"High\", no=\"Low\")\n",
    "\n",
    "metadata_not_ovi <- subset(metadata, Tumor_Sample_Barcode %in% not_ovi_samples)\n",
    "metadata_not_ovi$ViralInfection <- ifelse(metadata_not_ovi$Type == \"None\", yes=\"NoInfection\", no=\"YesInfection\")\n",
    "\n",
    "metadata_not_covid <- subset(metadata, Tumor_Sample_Barcode %in% not_covid_samples)\n",
    "metadata_not_covid$OVIorNone <- ifelse(metadata_not_covid$Type == \"OtherViralInfection\", yes=\"OtherViralInfection\", no=\"None\")"
   ]
  },
  {
   "cell_type": "code",
   "execution_count": null,
   "id": "e138414e-5d0c-4347-a040-b25fd1c90c3c",
   "metadata": {},
   "outputs": [],
   "source": [
    "# For: COVID-19  Vs. OVI\n",
    "\n",
    "# Subset Expanded Edits for High and Low samples only\n",
    "expanded_edits_covid_ovi <- subset(expanded_edits, Tumor_Sample_Barcode %in% covid_ovi_samples)\n",
    "expanded_edits_covid_ovi$COVIDOrOVI <- ifelse(expanded_edits_covid_ovi$Type == \"OtherViralInfection\", yes=\"OtherViralInfection\", no=\"COVID\")\n",
    "\n",
    "expanded_edits_covid_ovi <- expanded_edits_covid_ovi[,c(\"VarID\", \"COVIDOrOVI\", \"Type\", \"t_ref_count\", \"t_alt_count\")]\n",
    "\n",
    "# Identify unique editing sites\n",
    "editSites_covid_ovi <- list()\n",
    "editSites_covid_ovi <- unique(expanded_edits_covid_ovi$VarID)\n",
    "save(editSites_covid_ovi, file = \"rnaedits/editSites_covid_ovi.RData\")\n",
    "\n",
    "# Call REDIT_LLR for each unique editing site\n",
    "diffEdits_covid_ovi <- list()\n",
    "diffEdits_covid_ovi <- lapply(editSites_covid_ovi, function(i) doRedits(maf=expanded_edits_covid_ovi, site=i, column=\"COVIDOrOVI\"))\n",
    "                               \n",
    "save(diffEdits_covid_ovi, file = \"rnaedits/diffEdits_covid_ovi.RData\")"
   ]
  },
  {
   "cell_type": "code",
   "execution_count": null,
   "id": "ef83e95b-3ec6-44d6-a8b5-d82f6ebd18d1",
   "metadata": {},
   "outputs": [],
   "source": [
    "expanded_edits_high_low <- subset(expanded_edits, Tumor_Sample_Barcode %in% high_low_samples)\n",
    "expanded_edits_high_low$HighOrLow <- ifelse(expanded_edits_high_low$Type == \"High\", yes=\"High\", no=\"Low\")\n",
    "\n",
    "expanded_edits_high_low <- expanded_edits_high_low[,c(\"VarID\", \"HighOrLow\", \"Type\", \"t_ref_count\", \"t_alt_count\")]\n",
    "\n",
    "# Identify unique editing sites\n",
    "editSites_high_low <- list()\n",
    "editSites_high_low <- unique(expanded_edits_high_low$VarID)\n",
    "save(editSites_high_low, file = \"rnaedits/editSites_high_low.RData\")\n",
    "\n",
    "# Call REDIT_LLR for each unique editing site\n",
    "diffEdits_high_low <- list()\n",
    "diffEdits_high_low <- lapply(editSites_high_low, function(i) doRedits(maf=expanded_edits_high_low, site=i, column=\"HighOrLow\"))\n",
    "                               \n",
    "save(diffEdits_high_low, file = \"rnaedits/diffEdits_high_low.RData\")\n"
   ]
  },
  {
   "cell_type": "code",
   "execution_count": null,
   "id": "17e76a21-4f68-4c29-9afb-8cdcfc4382b0",
   "metadata": {},
   "outputs": [],
   "source": [
    "expanded_edits_not_ovi <- subset(expanded_edits, Tumor_Sample_Barcode %in% not_ovi_samples)\n",
    "expanded_edits_not_ovi$COVIDOrNone <- ifelse(expanded_edits_not_ovi$Type == \"None\", yes=\"None\", no=\"COVID\")\n",
    "\n",
    "expanded_edits_not_ovi <- expanded_edits_not_ovi[,c(\"VarID\", \"COVIDOrNone\", \"Type\", \"t_ref_count\", \"t_alt_count\")]\n",
    "\n",
    "# Identify unique editing sites\n",
    "editSites_not_ovi <- list()\n",
    "editSites_not_ovi <- unique(expanded_edits_not_ovi$VarID)\n",
    "save(editSites_not_ovi, file = \"rnaedits/editSites_not_ovi.RData\")\n",
    "\n",
    "# Call REDIT_LLR for each unique editing site\n",
    "diffEdits_not_ovi <- list()\n",
    "diffEdits_not_ovi <- lapply(editSites_not_ovi, function(i) doRedits(maf=expanded_edits_not_ovi, site=i, column=\"COVIDOrNone\"))\n",
    "                               \n",
    "save(diffEdits_not_ovi, file = \"rnaedits/diffEdits_not_ovi.RData\")"
   ]
  },
  {
   "cell_type": "code",
   "execution_count": null,
   "id": "42749560-3cbb-4378-8b13-141cdbd9911b",
   "metadata": {},
   "outputs": [],
   "source": [
    "expanded_edits_not_covid <- subset(expanded_edits, Tumor_Sample_Barcode %in% not_covid_samples)\n",
    "expanded_edits_not_covid$OVIorNone <- ifelse(expanded_edits_not_covid$Type == \"None\", yes=\"None\", no=\"OtherViralInfection\")\n",
    "\n",
    "expanded_edits_not_covid <- expanded_edits_not_covid[,c(\"VarID\", \"OVIorNone\", \"Type\", \"t_ref_count\", \"t_alt_count\")]\n",
    "\n",
    "# Identify unique editing sites\n",
    "editSites_not_covid <- list()\n",
    "editSites_not_covid <- unique(expanded_edits_not_covid$VarID)\n",
    "save(editSites_not_covid, file = \"rnaedits/editSites_not_covid.RData\")\n",
    "\n",
    "# Call REDIT_LLR for each unique editing site\n",
    "diffEdits_not_covid <- list()\n",
    "diffEdits_not_covid <- lapply(editSites_not_covid, function(i) doRedits(maf=expanded_edits_not_covid, site=i, column=\"OVIorNone\"))\n",
    "                               \n",
    "save(diffEdits_not_covid, file = \"rnaedits/diffEdits_not_covid.RData\")"
   ]
  },
  {
   "cell_type": "code",
   "execution_count": null,
   "id": "1715189d-c98b-49f2-9164-ac3dee6d5594",
   "metadata": {},
   "outputs": [],
   "source": [
    "edits_filt_covid_ovi <- subset(edits_filt_metadata, Tumor_Sample_Barcode %in% covid_ovi_samples)\n",
    "edits_filt_covid_ovi$COVIDOrOVI <- ifelse(edits_filt_covid_ovi$Type == \"OtherViralInfection\", yes=\"OtherViralInfection\", no=\"COVID\")\n",
    "edits_filt_covid_ovi <- edits_filt_covid_ovi[, c(\"Tumor_Sample_Barcode\", \"Type\", \"COVIDOrOVI\", \"Hugo_Symbol\", \"VarID\", \"Variant_Classification\")]\n",
    "\n",
    "edit_sites_by_gene_covid_ovi <- edits_filt_covid_ovi[,c(\"Hugo_Symbol\", \"VarID\", \"Variant_Classification\")]\n",
    "\n",
    "edit_sites_by_gene_covid_ovi <- subset(edit_sites_by_gene_covid_ovi, VarID %in% editSites_covid_ovi)\n",
    "p_adj_covid_ovi <- pAdjDiffEdits(diffEdits_covid_ovi, edit_sites_by_gene_covid_ovi, editSites_covid_ovi)\n",
    "\n",
    "# Merge to only include p.value < 0.05 sites\n",
    "edits_filt_covid_ovi <- merge(edits_filt_covid_ovi, p_adj_covid_ovi, by = c(\"VarID\", \"Variant_Classification\", \"Hugo_Symbol\"))\n",
    "\n",
    "p_adj_covid_ovifractions <- fractionOfSamplesEdited(p_adj_covid_ovi, edits_filt_covid_ovi, metadata_covid_ovi, \"COVIDOrOVI\", \"OtherViralInfection\", \"COVID\")"
   ]
  },
  {
   "cell_type": "code",
   "execution_count": null,
   "id": "a90f0ed3-a7ab-449f-9329-f2f1cc8014fd",
   "metadata": {},
   "outputs": [],
   "source": [
    "edits_filt_high_low <- subset(edits_filt_metadata, Tumor_Sample_Barcode %in% high_low_samples)\n",
    "edits_filt_high_low$HighOrLow <- ifelse(edits_filt_high_low$Type == \"High\", yes=\"High\", no=\"Low\")\n",
    "edits_filt_high_low <- edits_filt_high_low[, c(\"Tumor_Sample_Barcode\", \"Type\", \"HighOrLow\", \"Hugo_Symbol\", \"VarID\", \"Variant_Classification\")]\n",
    "\n",
    "edit_sites_by_gene_high_low <- edits_filt_high_low[,c(\"Hugo_Symbol\", \"VarID\", \"Variant_Classification\")]\n",
    "\n",
    "edit_sites_by_gene_high_low <- subset(edit_sites_by_gene_high_low, VarID %in% editSites_high_low)\n",
    "p_adj_high_low <- pAdjDiffEdits(diffEdits_high_low, edit_sites_by_gene_high_low, editSites_high_low)\n",
    "\n",
    "# Merge to only include p.value < 0.05 sites\n",
    "edits_filt_high_low <- merge(edits_filt_high_low, p_adj_high_low, by = c(\"VarID\", \"Variant_Classification\", \"Hugo_Symbol\"))\n",
    "\n",
    "p_adj_high_lowfractions <- fractionOfSamplesEdited(p_adj_high_low, edits_filt_high_low, metadata_high_low, \"HighOrLow\", \"High\", \"Low\")"
   ]
  },
  {
   "cell_type": "code",
   "execution_count": null,
   "id": "bdcce469-e07a-4059-8b9c-91528cb65c80",
   "metadata": {},
   "outputs": [],
   "source": [
    "edits_filt_not_ovi <- subset(edits_filt_metadata, Tumor_Sample_Barcode %in% not_ovi_samples)\n",
    "edits_filt_not_ovi$ViralInfection <- ifelse(edits_filt_not_ovi$Type == \"None\", yes=\"NoInfection\", no=\"YesInfection\")\n",
    "edits_filt_not_ovi <- edits_filt_not_ovi[, c(\"Tumor_Sample_Barcode\", \"Type\", \"ViralInfection\", \"Hugo_Symbol\", \"VarID\", \"Variant_Classification\")]\n",
    "\n",
    "edit_sites_by_gene_not_ovi <- edits_filt_not_ovi[,c(\"Hugo_Symbol\", \"VarID\", \"Variant_Classification\")]\n",
    "p_adj_not_ovi <- pAdjDiffEdits(diffEdits_not_ovi, edit_sites_by_gene_not_ovi, editSites_not_ovi)\n",
    "\n",
    "# Merge to only include p.value < 0.05 sites\n",
    "edits_filt_not_ovi <- merge(edits_filt_not_ovi, p_adj_not_ovi, by = c(\"VarID\", \"Variant_Classification\", \"Hugo_Symbol\"))\n",
    "\n",
    "p_adj_not_ovi_fractions <- fractionOfSamplesEdited(p_adj_not_ovi, edits_filt_not_ovi, metadata_not_ovi, \"ViralInfection\", \"YesInfection\", \"NoInfection\")\n"
   ]
  },
  {
   "cell_type": "code",
   "execution_count": null,
   "id": "0c11c259-9e92-48d3-b336-56445502ee0b",
   "metadata": {},
   "outputs": [],
   "source": [
    "edits_filt_not_covid <- subset(edits_filt_metadata, Tumor_Sample_Barcode %in% not_covid_samples)\n",
    "edits_filt_not_covid$OVIorNone <- ifelse(edits_filt_not_covid$Type == \"OtherViralInfection\", yes=\"OtherViralInfection\", no=\"None\")\n",
    "edits_filt_not_covid <- edits_filt_not_covid[, c(\"Tumor_Sample_Barcode\", \"Type\", \"OVIorNone\", \"Hugo_Symbol\", \"VarID\", \"Variant_Classification\")]\n",
    "\n",
    "edit_sites_by_gene_not_covid <- edits_filt_not_covid[,c(\"Hugo_Symbol\", \"VarID\", \"Variant_Classification\")]\n",
    "\n",
    "edit_sites_by_gene_not_covid <- subset(edit_sites_by_gene_not_covid, VarID %in% editSites_not_covid)\n",
    "p_adj_not_covid <- pAdjDiffEdits(diffEdits_not_covid, edit_sites_by_gene_not_covid, editSites_not_covid)\n",
    "\n",
    "# Merge to only include p.value < 0.05 sites\n",
    "edits_filt_not_covid <- merge(edits_filt_not_covid, p_adj_not_covid, by = c(\"VarID\", \"Variant_Classification\", \"Hugo_Symbol\"))\n",
    "\n",
    "p_adj_not_covid_fractions <- fractionOfSamplesEdited(p_adj_not_covid, edits_filt_not_covid, metadata_not_covid, \"OVIorNone\", \"OtherViralInfection\", \"None\")"
   ]
  },
  {
   "cell_type": "code",
   "execution_count": null,
   "id": "599bf483-cd49-4558-a4d6-c7e79e5ff544",
   "metadata": {},
   "outputs": [],
   "source": [
    "write.table(p_adj_covid_ovifractions, file=\"rnaedits/differentialediting_padj_covidvsovi.tsv\", sep=\"\\t\", quote=FALSE, row.names=FALSE)\n",
    "write.table(p_adj_high_lowfractions, file=\"rnaedits/differentialediting_padj_highvslow.tsv\", sep=\"\\t\", quote=FALSE, row.names=FALSE)\n",
    "write.table(p_adj_not_ovi_fractions, file=\"rnaedits/differentialediting_padj_covidvsnone.tsv\", sep=\"\\t\", quote=FALSE, row.names=FALSE)\n",
    "write.table(p_adj_not_covid_fractions, file=\"rnaedits/differentialediting_padj_ovivsnone.tsv\", sep=\"\\t\", quote=FALSE, row.names=FALSE)"
   ]
  },
  {
   "cell_type": "code",
   "execution_count": 1,
   "id": "fc1e032a-7c56-4914-a90f-992a9c88eb7b",
   "metadata": {},
   "outputs": [
    {
     "data": {
      "text/plain": [
       "R version 4.2.2 (2022-10-31)\n",
       "Platform: x86_64-conda-linux-gnu (64-bit)\n",
       "Running under: CentOS Linux 7 (Core)\n",
       "\n",
       "Matrix products: default\n",
       "BLAS/LAPACK: /home/m7huang/miniconda3/envs/single_cell_notebook/lib/libopenblasp-r0.3.21.so\n",
       "\n",
       "locale:\n",
       " [1] LC_CTYPE=en_US.UTF-8       LC_NUMERIC=C              \n",
       " [3] LC_TIME=en_US.UTF-8        LC_COLLATE=en_US.UTF-8    \n",
       " [5] LC_MONETARY=en_US.UTF-8    LC_MESSAGES=en_US.UTF-8   \n",
       " [7] LC_PAPER=en_US.UTF-8       LC_NAME=C                 \n",
       " [9] LC_ADDRESS=C               LC_TELEPHONE=C            \n",
       "[11] LC_MEASUREMENT=en_US.UTF-8 LC_IDENTIFICATION=C       \n",
       "\n",
       "attached base packages:\n",
       "[1] stats     graphics  grDevices utils     datasets  methods   base     \n",
       "\n",
       "loaded via a namespace (and not attached):\n",
       " [1] fansi_1.0.3     crayon_1.5.2    digest_0.6.31   utf8_1.2.2     \n",
       " [5] IRdisplay_1.1   repr_1.1.5      lifecycle_1.0.3 jsonlite_1.8.4 \n",
       " [9] evaluate_0.19   pillar_1.8.1    rlang_1.1.1     cli_3.6.0      \n",
       "[13] uuid_1.1-0      vctrs_0.6.2     IRkernel_1.3.1  tools_4.2.2    \n",
       "[17] glue_1.6.2      fastmap_1.1.0   compiler_4.2.2  base64enc_0.1-3\n",
       "[21] pbdZMQ_0.3-8    htmltools_0.5.4"
      ]
     },
     "metadata": {},
     "output_type": "display_data"
    }
   ],
   "source": [
    "sessionInfo()"
   ]
  },
  {
   "cell_type": "code",
   "execution_count": null,
   "id": "c032fd81-5bea-4c58-beab-f2858e41aadd",
   "metadata": {},
   "outputs": [],
   "source": []
  }
 ],
 "metadata": {
  "kernelspec": {
   "display_name": "R",
   "language": "R",
   "name": "ir"
  },
  "language_info": {
   "codemirror_mode": "r",
   "file_extension": ".r",
   "mimetype": "text/x-r-source",
   "name": "R",
   "pygments_lexer": "r",
   "version": "4.2.2"
  }
 },
 "nbformat": 4,
 "nbformat_minor": 5
}
